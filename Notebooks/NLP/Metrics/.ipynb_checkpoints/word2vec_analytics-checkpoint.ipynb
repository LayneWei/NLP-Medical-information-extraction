{
 "cells": [
  {
   "cell_type": "code",
   "execution_count": 2,
   "metadata": {
    "colab": {
     "base_uri": "https://localhost:8080/",
     "height": 1000
    },
    "colab_type": "code",
    "id": "yh630DpELoUb",
    "outputId": "c9825284-3883-421f-828a-e1f586537520"
   },
   "outputs": [],
   "source": [
    "from statistics import mean\n",
    "\n",
    "import pandas as pd\n",
    "from string import ascii_letters, digits\n",
    "\n",
    "import cython #ENSURE cython package is installed on computer/canopy\n",
    "from gensim.models import phrases \n",
    "from gensim import corpora, models, similarities #calc all similarities at once, from http://radimrehurek.com/gensim/tut3.html\n",
    "from scipy import spatial\n",
    "from gensim.models import Word2Vec, KeyedVectors\n",
    "from sklearn.manifold import TSNE\n",
    "from gensim.test.utils import datapath\n",
    "from flair.embeddings import ELMoEmbeddings\n",
    "\n",
    "import os\n",
    "import csv\n",
    "import json\n",
    "from xml.etree import cElementTree as ET\n",
    "\n",
    "from nltk.data import load\n",
    "import re\n",
    "# from flair.embeddings import FlairEmbeddings, StackedEmbeddings, FastTextEmbeddings, ELMoEmbeddings, BertEmbeddings\n",
    "# from flair.data import Sentence\n",
    "\n",
    "import numpy as np\n",
    "import random\n",
    "import matplotlib.pyplot as plt\n",
    "\n",
    "\n",
    "from sklearn.model_selection import StratifiedShuffleSplit\n",
    "from sklearn.ensemble import RandomForestClassifier\n",
    "from sklearn.metrics import f1_score"
   ]
  },
  {
   "cell_type": "code",
   "execution_count": 2,
   "metadata": {
    "colab": {
     "base_uri": "https://localhost:8080/",
     "height": 360
    },
    "colab_type": "code",
    "id": "CF1p6qh6L-w0",
    "outputId": "5d81d732-78f7-41df-b7fe-ebfd312411bd"
   },
   "outputs": [
    {
     "name": "stdout",
     "output_type": "stream",
     "text": [
      "(3375180, 2)\n"
     ]
    },
    {
     "data": {
      "text/html": [
       "<div>\n",
       "<style scoped>\n",
       "    .dataframe tbody tr th:only-of-type {\n",
       "        vertical-align: middle;\n",
       "    }\n",
       "\n",
       "    .dataframe tbody tr th {\n",
       "        vertical-align: top;\n",
       "    }\n",
       "\n",
       "    .dataframe thead th {\n",
       "        text-align: right;\n",
       "    }\n",
       "</style>\n",
       "<table border=\"1\" class=\"dataframe\">\n",
       "  <thead>\n",
       "    <tr style=\"text-align: right;\">\n",
       "      <th></th>\n",
       "      <th>Number</th>\n",
       "      <th>Sentence</th>\n",
       "    </tr>\n",
       "  </thead>\n",
       "  <tbody>\n",
       "    <tr>\n",
       "      <th>0</th>\n",
       "      <td>0</td>\n",
       "      <td>valdez harlan jr february har is a year old po...</td>\n",
       "    </tr>\n",
       "    <tr>\n",
       "      <th>1</th>\n",
       "      <td>1</td>\n",
       "      <td>about a week ago he slipped on the driveway at...</td>\n",
       "    </tr>\n",
       "    <tr>\n",
       "      <th>2</th>\n",
       "      <td>2</td>\n",
       "      <td>he was seen at tricity hospital and was told h...</td>\n",
       "    </tr>\n",
       "    <tr>\n",
       "      <th>3</th>\n",
       "      <td>3</td>\n",
       "      <td>he was placed in an air splint and advised to ...</td>\n",
       "    </tr>\n",
       "    <tr>\n",
       "      <th>4</th>\n",
       "      <td>4</td>\n",
       "      <td>past medical history is notable for no ankle i...</td>\n",
       "    </tr>\n",
       "    <tr>\n",
       "      <th>5</th>\n",
       "      <td>5</td>\n",
       "      <td>he has a history of diabetes and sleep apnea .</td>\n",
       "    </tr>\n",
       "    <tr>\n",
       "      <th>6</th>\n",
       "      <td>6</td>\n",
       "      <td>he is also followed by dr harold nutter for an...</td>\n",
       "    </tr>\n",
       "    <tr>\n",
       "      <th>7</th>\n",
       "      <td>7</td>\n",
       "      <td>he is a set designer at columbia pictures .</td>\n",
       "    </tr>\n",
       "    <tr>\n",
       "      <th>8</th>\n",
       "      <td>8</td>\n",
       "      <td>on examination today he has slight tenderness ...</td>\n",
       "    </tr>\n",
       "    <tr>\n",
       "      <th>9</th>\n",
       "      <td>9</td>\n",
       "      <td>the malleolus is nontender medially or lateral...</td>\n",
       "    </tr>\n",
       "  </tbody>\n",
       "</table>\n",
       "</div>"
      ],
      "text/plain": [
       "   Number                                           Sentence\n",
       "0       0  valdez harlan jr february har is a year old po...\n",
       "1       1  about a week ago he slipped on the driveway at...\n",
       "2       2  he was seen at tricity hospital and was told h...\n",
       "3       3  he was placed in an air splint and advised to ...\n",
       "4       4  past medical history is notable for no ankle i...\n",
       "5       5     he has a history of diabetes and sleep apnea .\n",
       "6       6  he is also followed by dr harold nutter for an...\n",
       "7       7        he is a set designer at columbia pictures .\n",
       "8       8  on examination today he has slight tenderness ...\n",
       "9       9  the malleolus is nontender medially or lateral..."
      ]
     },
     "execution_count": 2,
     "metadata": {},
     "output_type": "execute_result"
    }
   ],
   "source": [
    "##read in all sentences from csv\n",
    "df =  pd.read_csv(\"all_sents.csv\", encoding=\"utf-8\", names=[\"Number\", \"Sentence\"])\n",
    "\n",
    "##number of sentences should be 3.4 Million\n",
    "print(df.shape)\n",
    "df.head(10)"
   ]
  },
  {
   "cell_type": "code",
   "execution_count": 3,
   "metadata": {
    "colab": {
     "base_uri": "https://localhost:8080/",
     "height": 70
    },
    "colab_type": "code",
    "id": "kXH843-OQcOt",
    "outputId": "fa93a16a-42ae-4f16-be1c-f32a5e6ac56a"
   },
   "outputs": [
    {
     "name": "stdout",
     "output_type": "stream",
     "text": [
      "[['on', 'admission', 'to', 'ccu', 'pt', 'still', 'in', 'af', 'with', 'rvr', 's', '.'], ['he', 'was', 'on', 'amio', 'drip', 'bb', 'loaded', 'on', 'plavix', 'asa', 'lipitor', 'integrilin', 'and', 'was', 'placed', 'on', 'avandia', 'study', '.'], ['his', 'complaint', 'of', 'some', 'mild', 'chest', 'pain', 'not', 'same', 'as', 'anginal', 'pain', 'day', 'before', 'thought', 'to', 'be', 'from', 'defibrillation', '.'], ['past', 'medical', 'history', 'dmii', 'hyperchol', 'bipolarhtn', 'depression', 'sp', 'ect', 'medications', 'on', 'admission', 'asa', 'lipitor', 'lopressor', 'bid', 'folate', 'norvasc', 'qd', 'lithium', 'bid', 'depakote', 'bid', 'sonata', 'mg', 'qhs', 'doxylamine', 'qhs', 'mirtazapine', 'qd', 'meds', 'on', 'transfer', 'please', 'see', 'green', 'sheets', 'medications', 'asa', 'lipitor', 'lopressor', 'bid', 'folate', 'norvasc', 'qd', 'lithium', 'bid', 'depakote', 'bid', 'sonata', 'mg', 'qhs', 'doxylamine', 'qhs', 'mirtazapine', 'qd', 'allergies', 'nkda', 'family', 'history', 'family', 'ho', 'cad', 'social', 'history', 'no', 'etoh', 'no', 'tob', 'no', 'illicits', 'review', 'of', 'systems', 'per', 'hpi', 'allergies', 'nkda', 'family', 'history', 'family', 'ho', 'cad', 'social', 'history', 'no', 'etoh', 'no', 'tob', 'no', 'illicits', 'review', 'of', 'systems', 'per', 'hpi', 'ccu', 'course', '+', 'plan', 'cards', 'a', 'rhythm', 'on', 'night', 'of', 'admission', 'patient', 'was', 'started', 'on', 'an', 'esmolol', 'drip', 'as', 'well', 'as', 'amio', 'bloused', 'and', 'rhythm', 'converted', 'to', 'nsr', '.'], ['esmolol', 'drip', 'as', 'well', 'as', 'amio', 'was', 'stopped', 'and', 'bb', 'was', 'escalated', 'and', 'patient', 'has', 'remained', 'in', 'nsr', '.'], ['i', 'ramp', 'up', 'lopressor', 'as', 'tolerated', 'by', 'bp', 'b', 'pump', 'patient', 'has', 'remained', 'euvolemic', 'and', 'had', 'a', 'echo', 'with', 'ef', '%', 'and', 'aortic', 'stenosis', 'c', 'ischemia', 'was', 'stented', 'x', 'to', 'the', 'prox', 'rca', 'lesion', 'and', 'was', 'on', 'integrilin', 'x', 'hrs', 'prior', '.'], ['i', 'cont', 'plavix', 'lopressor', 'lisinopril', 'lipitor', 'asa', 'psych', 'patient', 'with', 'long', 'history', 'of', 'bipolar', 'disorder', '+', 'depression', '.'], ['he', 'was', 'on', 'depakote', 'lithium', 'and', 'remeron', 'as', 'outpt', '.'], ['a', 'continue', 'depakote', 'and', 'lithium', 'had', 'subthereapeutic', 'level', 'that', 'psych', 'thought', 'was', 'likely', 'due', 'to', 'noncompliance', '.'], ['b', 'continue', 'remeron', 'qhs', 'c', 'fu', 'tsh', 'dm', 'blood', 'sugars', 'were', 'originally', 'elevated', 'as', 'amio', 'drip', 'he', 'was', 'originally', 'on', 'for', 'af', 'contained', 'dextrose', '.']]\n",
      "3375180\n"
     ]
    }
   ],
   "source": [
    "##take out 200,000 random sentences\n",
    "df1 = df#.sample(n = 200000) \n",
    "\n",
    "\n",
    "#turn dataframe into sentences and words\n",
    "sentences = [row.split(' ') for row in df1['Sentence']]\n",
    "\n",
    "#show some sentences and length\n",
    "print(sentences[100:110])\n",
    "print(len(sentences))"
   ]
  },
  {
   "cell_type": "code",
   "execution_count": 4,
   "metadata": {
    "colab": {
     "base_uri": "https://localhost:8080/",
     "height": 70
    },
    "colab_type": "code",
    "id": "__HFPMLLQkZi",
    "outputId": "af4174fe-55a9-4a31-ef74-725dffb6565e"
   },
   "outputs": [],
   "source": [
    "##transform these into bigrams and trigrams\n",
    "bigram_transformer = phrases.Phrases(sentences) \n",
    "bigram = phrases.Phraser(bigram_transformer)\n",
    "trigram = phrases.Phrases(bigram_transformer[sentences])"
   ]
  },
  {
   "cell_type": "code",
   "execution_count": 5,
   "metadata": {
    "colab": {
     "base_uri": "https://localhost:8080/",
     "height": 70
    },
    "colab_type": "code",
    "id": "1U_LBFDTa5Xd",
    "outputId": "81b21601-0477-4b4d-f595-891b4a65b6e6"
   },
   "outputs": [],
   "source": [
    "bestmodel = Word2Vec(trigram[bigram[sentences]], workers=4, sg=0, size=130, min_count=3, window=10, sample=1e-3)"
   ]
  },
  {
   "cell_type": "code",
   "execution_count": 68,
   "metadata": {
    "colab": {
     "base_uri": "https://localhost:8080/",
     "height": 104
    },
    "colab_type": "code",
    "id": "Ssl0P4QEQ3DO",
    "outputId": "dedabef3-f019-43b9-f33a-63e4900eb406"
   },
   "outputs": [
    {
     "name": "stdout",
     "output_type": "stream",
     "text": [
      "prior number of words: 77123406\n"
     ]
    },
    {
     "name": "stderr",
     "output_type": "stream",
     "text": [
      "/usr/local/lib/python3.6/dist-packages/gensim/models/phrases.py:598: UserWarning: For a faster implementation, use the gensim.models.phrases.Phraser class\n",
      "  warnings.warn(\"For a faster implementation, use the gensim.models.phrases.Phraser class\")\n"
     ]
    },
    {
     "name": "stdout",
     "output_type": "stream",
     "text": [
      "number of trigrams and bigrams: 11799079\n"
     ]
    }
   ],
   "source": [
    "print('prior number of words: ' + str(sum([len(sent) for sent in sentences])))\n",
    "print('number of trigrams and bigrams: ' + str(sum([len(sent) for sent in sentences]) - sum([len(trigram[bigram[sent]]) for sent in sentences])))"
   ]
  },
  {
   "cell_type": "code",
   "execution_count": 0,
   "metadata": {
    "colab": {
     "base_uri": "https://localhost:8080/",
     "height": 658
    },
    "colab_type": "code",
    "id": "sZ2D1KkbSFRG",
    "outputId": "efec1c45-8ff6-4f2c-ef45-d77b38dcf5aa"
   },
   "outputs": [
    {
     "name": "stdout",
     "output_type": "stream",
     "text": [
      "training model 1/35\n"
     ]
    },
    {
     "name": "stderr",
     "output_type": "stream",
     "text": [
      "/usr/local/lib/python3.6/dist-packages/gensim/models/phrases.py:598: UserWarning: For a faster implementation, use the gensim.models.phrases.Phraser class\n",
      "  warnings.warn(\"For a faster implementation, use the gensim.models.phrases.Phraser class\")\n"
     ]
    },
    {
     "name": "stdout",
     "output_type": "stream",
     "text": [
      "training model 2/35\n",
      "training model 3/35\n",
      "training model 4/35\n",
      "training model 5/35\n",
      "training model 6/35\n",
      "training model 7/35\n",
      "training model 8/35\n",
      "training model 9/35\n",
      "training model 10/35\n",
      "training model 11/35\n",
      "training model 12/35\n",
      "training model 13/35\n",
      "training model 14/35\n",
      "training model 15/35\n",
      "training model 16/35\n",
      "training model 17/35\n",
      "training model 18/35\n",
      "training model 19/35\n",
      "training model 20/35\n",
      "training model 21/35\n",
      "training model 22/35\n",
      "training model 23/35\n",
      "training model 24/35\n",
      "training model 25/35\n",
      "training model 26/35\n",
      "training model 27/35\n",
      "training model 28/35\n",
      "training model 29/35\n",
      "training model 30/35\n",
      "training model 31/35\n",
      "training model 32/35\n",
      "training model 33/35\n",
      "training model 34/35\n",
      "training model 35/35\n"
     ]
    }
   ],
   "source": [
    "def group_model_training(size_list, window_list):   \n",
    "    model_list = list()\n",
    "    for i,size in enumerate(size_list):\n",
    "        models_size = list()\n",
    "        for j,window in enumerate(window_list):\n",
    "            print('training model {}/{}'.format(i*len(window_list)+j+1,len(size_list)*len(window_list)))\n",
    "            currentmodel = Word2Vec(trigram[bigram[sentences]], workers=4, sg=0, size=size, min_count=3, window=window, sample=1e-3)\n",
    "            currentmodel.init_sims(replace=True)\n",
    "            models_size.append(currentmodel)\n",
    "        model_list.append(models_size)\n",
    "    return model_list        \n",
    "\n",
    "\n",
    "size_list = range(10, 131,20)\n",
    "window_list = range(2,11,2)\n",
    "model_list = group_model_training(size_list, window_list)\n",
    "###will try simplex optimization\n",
    "#model_size_copy"
   ]
  },
  {
   "cell_type": "code",
   "execution_count": 9,
   "metadata": {
    "colab": {},
    "colab_type": "code",
    "id": "gagwoMMFSncP"
   },
   "outputs": [],
   "source": [
    "#get abbreviation dictionary\n",
    "abbreviation_path = 'concept_abbreviation.txt'\n",
    "with open(abbreviation_path, 'r') as dictionary:\n",
    "    abbreviations_dic = {}\n",
    "    for line in dictionary:\n",
    "        if len(line)>1:\n",
    "            line=line.split('-',1)\n",
    "            abbreviations_dic[line[0].rstrip().lower()] = line[1].lstrip().lower()"
   ]
  },
  {
   "cell_type": "code",
   "execution_count": 10,
   "metadata": {
    "colab": {},
    "colab_type": "code",
    "id": "oF_qvCnMSqLu"
   },
   "outputs": [],
   "source": [
    "def stripword(word):\n",
    "    word = word.replace(\"[\", \"\")\n",
    "    word = word.replace(\"]\", \"\")\n",
    "    word = word.replace(\"'\", \"\")\n",
    "    word = word.replace(\"'\", \"\")\n",
    "    word = word.replace(\",\", \"\")\n",
    "    word = word.replace(\".\", \"\")\n",
    "    word = word.replace(\"_\", \"\")\n",
    "    word = word.replace(\":\", \"\")\n",
    "    word = word.replace(\"-\", \"\")\n",
    "    word = word.replace(\"*\", \"\")\n",
    "    word = word.replace(\"/\", \"\")\n",
    "    word = word.replace(\"(\", \"\")\n",
    "    word = word.replace(\")\", \"\")\n",
    "    word = word.replace(\"´\", \"\")\n",
    "    word = word.replace(\"`\", \"\")\n",
    "    word = word.replace(\";\", \"\")\n",
    "    word = word.replace(\"__END\", \"\")\n",
    "    word = word.replace(\"BEG__\", \"\")\n",
    "    return word\n",
    "\n",
    "\n",
    "def extract_txt(filename):\n",
    "    all_txt = []\n",
    "    translator = str.maketrans(ascii_letters, ascii_letters, digits)\n",
    "    with open(filename) as csvfile:\n",
    "        csvdata = csv.reader(csvfile)\n",
    "        next(csvdata, None)\n",
    "        for row in csvdata:\n",
    "            row13 = row[13]\n",
    "            if row13.lower() in abbreviations_dic:\n",
    "                    row13 = abbreviations_dic[row13.lower()]\n",
    "            row3 = row[3]\n",
    "            if row3 in abbreviations_dic:\n",
    "                row3 = abbreviations_dic[row3]\n",
    "            row13 = row13.translate(translator)\n",
    "            row13 = row13.strip()\n",
    "            row13 = row13.lower()\n",
    "            row13 = stripword(row13)\n",
    "            row3 = row3.translate(translator)\n",
    "            row3 = row3.strip()\n",
    "            row3 = row3.lower()\n",
    "            row3 = stripword(row3)\n",
    "            all_txt.append([row13.split(), row3.split()])\n",
    "    return all_txt\n",
    "\n",
    "\n",
    "all_txt = extract_txt('combined_diseases.csv') #combined_labs.csv"
   ]
  },
  {
   "cell_type": "code",
   "execution_count": 8,
   "metadata": {
    "colab": {},
    "colab_type": "code",
    "id": "cOiTYkI0Stht"
   },
   "outputs": [],
   "source": [
    "def cosine_similarity(word1, word2, model):\n",
    "    return 1 - spatial.distance.cosine(model.wv[word1], model.wv[word2])\n",
    "\n",
    "\n",
    "def combined_cosine_similarity(concept, in_txt, model):\n",
    "    if concept.lower() == in_txt.lower():\n",
    "        return 1.0\n",
    "\n",
    "    \n",
    "    if in_txt.lower() in abbreviations_dic:\n",
    "        in_txt = abbreviations_dic[in_txt.lower()]\n",
    "        \n",
    "    if concept.lower() == in_txt.lower():\n",
    "        return 1.0\n",
    "    \n",
    "        \n",
    "    concept = concept.split(' ')\n",
    "    in_txt = in_txt.split(' ')\n",
    "    concept_words = [stripword(i.lower()) for i in concept]\n",
    "    range_words = [stripword(i.lower()) for i in in_txt]\n",
    "    \n",
    "    cosine_average = 0\n",
    "    count = 0\n",
    "    \n",
    "    for m in range(0, len(concept_words)):\n",
    "        try:\n",
    "            word1 = '_'.join(concept_words[m:m + 3])\n",
    "            word2 = '_'.join(range_words[m:m + 3])\n",
    "\n",
    "            cosine_average += cosine_similarity(word1, word2, model)\n",
    "            count += 1\n",
    "        except:\n",
    "            pass\n",
    "    for m in range(0, len(concept_words)):\n",
    "        try:\n",
    "            word1 = '_'.join(concept_words[m:m + 2])\n",
    "            word2 = '_'.join(range_words[m:m + 2])\n",
    "            cosine_average += cosine_similarity(word1, word2, model)\n",
    "            count += 1\n",
    "        except:\n",
    "            pass\n",
    "    for word3 in concept_words:\n",
    "        for word4 in range_words:\n",
    "            try:\n",
    "                cosine_average += cosine_similarity(word3, word4, model)\n",
    "                count += 1\n",
    "            except:\n",
    "                pass\n",
    "    if count == 0:\n",
    "        return 0.0\n",
    "    else:\n",
    "        return cosine_average / count"
   ]
  },
  {
   "cell_type": "code",
   "execution_count": 0,
   "metadata": {
    "colab": {
     "base_uri": "https://localhost:8080/",
     "height": 607
    },
    "colab_type": "code",
    "id": "nHpE13jZS6tA",
    "outputId": "12e54ead-662f-4154-9a43-298291baa23c"
   },
   "outputs": [
    {
     "data": {
      "image/png": "[encoded data removed]",
      "text/plain": [
       "<Figure size 1080x720 with 2 Axes>"
      ]
     },
     "metadata": {
      "tags": []
     },
     "output_type": "display_data"
    }
   ],
   "source": [
    "fig = plt.figure(figsize = (15,10))\n",
    "ax1 = fig.add_subplot(121)\n",
    "ax2 = fig.add_subplot(122)\n",
    "\n",
    "for i,size in enumerate(model_list):\n",
    "    similarity_scores = list()\n",
    "    for model in size:\n",
    "        single_scores = list()\n",
    "        for concepts in all_txt:\n",
    "            single_scores.append(combined_cosine_similarity(concepts[0], concepts[1], model))\n",
    "        similarity_scores.append(mean(single_scores))\n",
    "    ax1.plot(window_list, similarity_scores,'-', label=[size_list[i]])\n",
    "\n",
    "for i in range(len(model_list[i])):\n",
    "    similarity_scores = list()\n",
    "    for j in range(len(model_list)):\n",
    "        single_scores = list()\n",
    "        for concepts in all_txt:\n",
    "            single_scores.append(combined_cosine_similarity(concepts[0], concepts[1], model_list[j][i]))\n",
    "        similarity_scores.append(mean(single_scores))\n",
    "    ax2.plot(size_list, similarity_scores,'-', label=[window_list[i]])\n",
    "\n",
    "ax1.title.set_text('Average cosine similarity of concepts by model size')\n",
    "ax2.title.set_text('Average cosine similarity of concepts by window size')\n",
    "ax1.legend()\n",
    "ax2.legend()\n",
    "ax1.grid(True)\n",
    "ax2.grid(True)\n",
    "plt.show()"
   ]
  },
  {
   "cell_type": "code",
   "execution_count": 3,
   "metadata": {
    "colab": {},
    "colab_type": "code",
    "id": "E_sWxmCefOyR"
   },
   "outputs": [],
   "source": [
    "data=pd.read_csv('data_1000.csv')"
   ]
  },
  {
   "cell_type": "code",
   "execution_count": 0,
   "metadata": {
    "colab": {
     "base_uri": "https://localhost:8080/",
     "height": 1000
    },
    "colab_type": "code",
    "id": "IEmxxQmEUYEh",
    "outputId": "9726883a-3542-4701-8ab5-ba134cfce52b",
    "scrolled": false
   },
   "outputs": [
    {
     "name": "stdout",
     "output_type": "stream",
     "text": [
      "evaluating model 1/35\n"
     ]
    },
    {
     "name": "stderr",
     "output_type": "stream",
     "text": [
      "/usr/local/lib/python3.6/dist-packages/ipykernel_launcher.py:32: DataConversionWarning: A column-vector y was passed when a 1d array was expected. Please change the shape of y to (n_samples,), for example using ravel().\n"
     ]
    },
    {
     "name": "stdout",
     "output_type": "stream",
     "text": [
      "evaluating model 2/35\n"
     ]
    },
    {
     "name": "stderr",
     "output_type": "stream",
     "text": [
      "/usr/local/lib/python3.6/dist-packages/ipykernel_launcher.py:32: DataConversionWarning: A column-vector y was passed when a 1d array was expected. Please change the shape of y to (n_samples,), for example using ravel().\n"
     ]
    },
    {
     "name": "stdout",
     "output_type": "stream",
     "text": [
      "evaluating model 3/35\n"
     ]
    },
    {
     "name": "stderr",
     "output_type": "stream",
     "text": [
      "/usr/local/lib/python3.6/dist-packages/ipykernel_launcher.py:32: DataConversionWarning: A column-vector y was passed when a 1d array was expected. Please change the shape of y to (n_samples,), for example using ravel().\n"
     ]
    },
    {
     "name": "stdout",
     "output_type": "stream",
     "text": [
      "evaluating model 4/35\n"
     ]
    },
    {
     "name": "stderr",
     "output_type": "stream",
     "text": [
      "/usr/local/lib/python3.6/dist-packages/ipykernel_launcher.py:32: DataConversionWarning: A column-vector y was passed when a 1d array was expected. Please change the shape of y to (n_samples,), for example using ravel().\n"
     ]
    },
    {
     "name": "stdout",
     "output_type": "stream",
     "text": [
      "evaluating model 5/35\n"
     ]
    },
    {
     "name": "stderr",
     "output_type": "stream",
     "text": [
      "/usr/local/lib/python3.6/dist-packages/ipykernel_launcher.py:32: DataConversionWarning: A column-vector y was passed when a 1d array was expected. Please change the shape of y to (n_samples,), for example using ravel().\n"
     ]
    },
    {
     "name": "stdout",
     "output_type": "stream",
     "text": [
      "evaluating model 6/35\n"
     ]
    },
    {
     "name": "stderr",
     "output_type": "stream",
     "text": [
      "/usr/local/lib/python3.6/dist-packages/ipykernel_launcher.py:32: DataConversionWarning: A column-vector y was passed when a 1d array was expected. Please change the shape of y to (n_samples,), for example using ravel().\n"
     ]
    },
    {
     "name": "stdout",
     "output_type": "stream",
     "text": [
      "evaluating model 7/35\n"
     ]
    },
    {
     "name": "stderr",
     "output_type": "stream",
     "text": [
      "/usr/local/lib/python3.6/dist-packages/ipykernel_launcher.py:32: DataConversionWarning: A column-vector y was passed when a 1d array was expected. Please change the shape of y to (n_samples,), for example using ravel().\n"
     ]
    },
    {
     "name": "stdout",
     "output_type": "stream",
     "text": [
      "evaluating model 8/35\n"
     ]
    },
    {
     "name": "stderr",
     "output_type": "stream",
     "text": [
      "/usr/local/lib/python3.6/dist-packages/ipykernel_launcher.py:32: DataConversionWarning: A column-vector y was passed when a 1d array was expected. Please change the shape of y to (n_samples,), for example using ravel().\n"
     ]
    },
    {
     "name": "stdout",
     "output_type": "stream",
     "text": [
      "evaluating model 9/35\n"
     ]
    },
    {
     "name": "stderr",
     "output_type": "stream",
     "text": [
      "/usr/local/lib/python3.6/dist-packages/ipykernel_launcher.py:32: DataConversionWarning: A column-vector y was passed when a 1d array was expected. Please change the shape of y to (n_samples,), for example using ravel().\n"
     ]
    },
    {
     "name": "stdout",
     "output_type": "stream",
     "text": [
      "evaluating model 10/35\n"
     ]
    },
    {
     "name": "stderr",
     "output_type": "stream",
     "text": [
      "/usr/local/lib/python3.6/dist-packages/ipykernel_launcher.py:32: DataConversionWarning: A column-vector y was passed when a 1d array was expected. Please change the shape of y to (n_samples,), for example using ravel().\n"
     ]
    },
    {
     "name": "stdout",
     "output_type": "stream",
     "text": [
      "evaluating model 11/35\n"
     ]
    },
    {
     "name": "stderr",
     "output_type": "stream",
     "text": [
      "/usr/local/lib/python3.6/dist-packages/ipykernel_launcher.py:32: DataConversionWarning: A column-vector y was passed when a 1d array was expected. Please change the shape of y to (n_samples,), for example using ravel().\n"
     ]
    },
    {
     "name": "stdout",
     "output_type": "stream",
     "text": [
      "evaluating model 12/35\n"
     ]
    },
    {
     "name": "stderr",
     "output_type": "stream",
     "text": [
      "/usr/local/lib/python3.6/dist-packages/ipykernel_launcher.py:32: DataConversionWarning: A column-vector y was passed when a 1d array was expected. Please change the shape of y to (n_samples,), for example using ravel().\n"
     ]
    },
    {
     "name": "stdout",
     "output_type": "stream",
     "text": [
      "evaluating model 13/35\n"
     ]
    },
    {
     "name": "stderr",
     "output_type": "stream",
     "text": [
      "/usr/local/lib/python3.6/dist-packages/ipykernel_launcher.py:32: DataConversionWarning: A column-vector y was passed when a 1d array was expected. Please change the shape of y to (n_samples,), for example using ravel().\n"
     ]
    },
    {
     "name": "stdout",
     "output_type": "stream",
     "text": [
      "evaluating model 14/35\n"
     ]
    },
    {
     "name": "stderr",
     "output_type": "stream",
     "text": [
      "/usr/local/lib/python3.6/dist-packages/ipykernel_launcher.py:32: DataConversionWarning: A column-vector y was passed when a 1d array was expected. Please change the shape of y to (n_samples,), for example using ravel().\n"
     ]
    },
    {
     "name": "stdout",
     "output_type": "stream",
     "text": [
      "evaluating model 15/35\n"
     ]
    },
    {
     "name": "stderr",
     "output_type": "stream",
     "text": [
      "/usr/local/lib/python3.6/dist-packages/ipykernel_launcher.py:32: DataConversionWarning: A column-vector y was passed when a 1d array was expected. Please change the shape of y to (n_samples,), for example using ravel().\n"
     ]
    },
    {
     "name": "stdout",
     "output_type": "stream",
     "text": [
      "evaluating model 16/35\n"
     ]
    },
    {
     "name": "stderr",
     "output_type": "stream",
     "text": [
      "/usr/local/lib/python3.6/dist-packages/ipykernel_launcher.py:32: DataConversionWarning: A column-vector y was passed when a 1d array was expected. Please change the shape of y to (n_samples,), for example using ravel().\n"
     ]
    },
    {
     "name": "stdout",
     "output_type": "stream",
     "text": [
      "evaluating model 17/35\n"
     ]
    },
    {
     "name": "stderr",
     "output_type": "stream",
     "text": [
      "/usr/local/lib/python3.6/dist-packages/ipykernel_launcher.py:32: DataConversionWarning: A column-vector y was passed when a 1d array was expected. Please change the shape of y to (n_samples,), for example using ravel().\n"
     ]
    },
    {
     "name": "stdout",
     "output_type": "stream",
     "text": [
      "evaluating model 18/35\n"
     ]
    },
    {
     "name": "stderr",
     "output_type": "stream",
     "text": [
      "/usr/local/lib/python3.6/dist-packages/ipykernel_launcher.py:32: DataConversionWarning: A column-vector y was passed when a 1d array was expected. Please change the shape of y to (n_samples,), for example using ravel().\n"
     ]
    },
    {
     "name": "stdout",
     "output_type": "stream",
     "text": [
      "evaluating model 19/35\n"
     ]
    },
    {
     "name": "stderr",
     "output_type": "stream",
     "text": [
      "/usr/local/lib/python3.6/dist-packages/ipykernel_launcher.py:32: DataConversionWarning: A column-vector y was passed when a 1d array was expected. Please change the shape of y to (n_samples,), for example using ravel().\n"
     ]
    },
    {
     "name": "stdout",
     "output_type": "stream",
     "text": [
      "evaluating model 20/35\n"
     ]
    },
    {
     "name": "stderr",
     "output_type": "stream",
     "text": [
      "/usr/local/lib/python3.6/dist-packages/ipykernel_launcher.py:32: DataConversionWarning: A column-vector y was passed when a 1d array was expected. Please change the shape of y to (n_samples,), for example using ravel().\n"
     ]
    },
    {
     "name": "stdout",
     "output_type": "stream",
     "text": [
      "evaluating model 21/35\n"
     ]
    },
    {
     "name": "stderr",
     "output_type": "stream",
     "text": [
      "/usr/local/lib/python3.6/dist-packages/ipykernel_launcher.py:32: DataConversionWarning: A column-vector y was passed when a 1d array was expected. Please change the shape of y to (n_samples,), for example using ravel().\n"
     ]
    },
    {
     "name": "stdout",
     "output_type": "stream",
     "text": [
      "evaluating model 22/35\n"
     ]
    },
    {
     "name": "stderr",
     "output_type": "stream",
     "text": [
      "/usr/local/lib/python3.6/dist-packages/ipykernel_launcher.py:32: DataConversionWarning: A column-vector y was passed when a 1d array was expected. Please change the shape of y to (n_samples,), for example using ravel().\n"
     ]
    },
    {
     "name": "stdout",
     "output_type": "stream",
     "text": [
      "evaluating model 23/35\n"
     ]
    },
    {
     "name": "stderr",
     "output_type": "stream",
     "text": [
      "/usr/local/lib/python3.6/dist-packages/ipykernel_launcher.py:32: DataConversionWarning: A column-vector y was passed when a 1d array was expected. Please change the shape of y to (n_samples,), for example using ravel().\n"
     ]
    },
    {
     "name": "stdout",
     "output_type": "stream",
     "text": [
      "evaluating model 24/35\n"
     ]
    },
    {
     "name": "stderr",
     "output_type": "stream",
     "text": [
      "/usr/local/lib/python3.6/dist-packages/ipykernel_launcher.py:32: DataConversionWarning: A column-vector y was passed when a 1d array was expected. Please change the shape of y to (n_samples,), for example using ravel().\n"
     ]
    },
    {
     "name": "stdout",
     "output_type": "stream",
     "text": [
      "evaluating model 25/35\n"
     ]
    },
    {
     "name": "stderr",
     "output_type": "stream",
     "text": [
      "/usr/local/lib/python3.6/dist-packages/ipykernel_launcher.py:32: DataConversionWarning: A column-vector y was passed when a 1d array was expected. Please change the shape of y to (n_samples,), for example using ravel().\n"
     ]
    },
    {
     "name": "stdout",
     "output_type": "stream",
     "text": [
      "evaluating model 26/35\n"
     ]
    },
    {
     "name": "stderr",
     "output_type": "stream",
     "text": [
      "/usr/local/lib/python3.6/dist-packages/ipykernel_launcher.py:32: DataConversionWarning: A column-vector y was passed when a 1d array was expected. Please change the shape of y to (n_samples,), for example using ravel().\n"
     ]
    },
    {
     "name": "stdout",
     "output_type": "stream",
     "text": [
      "evaluating model 27/35\n"
     ]
    },
    {
     "name": "stderr",
     "output_type": "stream",
     "text": [
      "/usr/local/lib/python3.6/dist-packages/ipykernel_launcher.py:32: DataConversionWarning: A column-vector y was passed when a 1d array was expected. Please change the shape of y to (n_samples,), for example using ravel().\n"
     ]
    },
    {
     "name": "stdout",
     "output_type": "stream",
     "text": [
      "evaluating model 28/35\n"
     ]
    },
    {
     "name": "stderr",
     "output_type": "stream",
     "text": [
      "/usr/local/lib/python3.6/dist-packages/ipykernel_launcher.py:32: DataConversionWarning: A column-vector y was passed when a 1d array was expected. Please change the shape of y to (n_samples,), for example using ravel().\n"
     ]
    },
    {
     "name": "stdout",
     "output_type": "stream",
     "text": [
      "evaluating model 29/35\n"
     ]
    },
    {
     "name": "stderr",
     "output_type": "stream",
     "text": [
      "/usr/local/lib/python3.6/dist-packages/ipykernel_launcher.py:32: DataConversionWarning: A column-vector y was passed when a 1d array was expected. Please change the shape of y to (n_samples,), for example using ravel().\n"
     ]
    },
    {
     "name": "stdout",
     "output_type": "stream",
     "text": [
      "evaluating model 30/35\n"
     ]
    },
    {
     "name": "stderr",
     "output_type": "stream",
     "text": [
      "/usr/local/lib/python3.6/dist-packages/ipykernel_launcher.py:32: DataConversionWarning: A column-vector y was passed when a 1d array was expected. Please change the shape of y to (n_samples,), for example using ravel().\n"
     ]
    },
    {
     "name": "stdout",
     "output_type": "stream",
     "text": [
      "evaluating model 31/35\n"
     ]
    },
    {
     "name": "stderr",
     "output_type": "stream",
     "text": [
      "/usr/local/lib/python3.6/dist-packages/ipykernel_launcher.py:32: DataConversionWarning: A column-vector y was passed when a 1d array was expected. Please change the shape of y to (n_samples,), for example using ravel().\n"
     ]
    },
    {
     "name": "stdout",
     "output_type": "stream",
     "text": [
      "evaluating model 32/35\n"
     ]
    },
    {
     "name": "stderr",
     "output_type": "stream",
     "text": [
      "/usr/local/lib/python3.6/dist-packages/ipykernel_launcher.py:32: DataConversionWarning: A column-vector y was passed when a 1d array was expected. Please change the shape of y to (n_samples,), for example using ravel().\n"
     ]
    },
    {
     "name": "stdout",
     "output_type": "stream",
     "text": [
      "evaluating model 33/35\n"
     ]
    },
    {
     "name": "stderr",
     "output_type": "stream",
     "text": [
      "/usr/local/lib/python3.6/dist-packages/ipykernel_launcher.py:32: DataConversionWarning: A column-vector y was passed when a 1d array was expected. Please change the shape of y to (n_samples,), for example using ravel().\n"
     ]
    },
    {
     "name": "stdout",
     "output_type": "stream",
     "text": [
      "evaluating model 34/35\n"
     ]
    },
    {
     "name": "stderr",
     "output_type": "stream",
     "text": [
      "/usr/local/lib/python3.6/dist-packages/ipykernel_launcher.py:32: DataConversionWarning: A column-vector y was passed when a 1d array was expected. Please change the shape of y to (n_samples,), for example using ravel().\n"
     ]
    },
    {
     "name": "stdout",
     "output_type": "stream",
     "text": [
      "evaluating model 35/35\n"
     ]
    },
    {
     "name": "stderr",
     "output_type": "stream",
     "text": [
      "/usr/local/lib/python3.6/dist-packages/ipykernel_launcher.py:32: DataConversionWarning: A column-vector y was passed when a 1d array was expected. Please change the shape of y to (n_samples,), for example using ravel().\n"
     ]
    },
    {
     "name": "stdout",
     "output_type": "stream",
     "text": [
      "evaluating model 1/35\n"
     ]
    },
    {
     "name": "stderr",
     "output_type": "stream",
     "text": [
      "/usr/local/lib/python3.6/dist-packages/ipykernel_launcher.py:52: DataConversionWarning: A column-vector y was passed when a 1d array was expected. Please change the shape of y to (n_samples,), for example using ravel().\n"
     ]
    },
    {
     "name": "stdout",
     "output_type": "stream",
     "text": [
      "evaluating model 2/35\n"
     ]
    },
    {
     "name": "stderr",
     "output_type": "stream",
     "text": [
      "/usr/local/lib/python3.6/dist-packages/ipykernel_launcher.py:52: DataConversionWarning: A column-vector y was passed when a 1d array was expected. Please change the shape of y to (n_samples,), for example using ravel().\n"
     ]
    },
    {
     "name": "stdout",
     "output_type": "stream",
     "text": [
      "evaluating model 3/35\n"
     ]
    },
    {
     "name": "stderr",
     "output_type": "stream",
     "text": [
      "/usr/local/lib/python3.6/dist-packages/ipykernel_launcher.py:52: DataConversionWarning: A column-vector y was passed when a 1d array was expected. Please change the shape of y to (n_samples,), for example using ravel().\n"
     ]
    },
    {
     "name": "stdout",
     "output_type": "stream",
     "text": [
      "evaluating model 4/35\n"
     ]
    },
    {
     "name": "stderr",
     "output_type": "stream",
     "text": [
      "/usr/local/lib/python3.6/dist-packages/ipykernel_launcher.py:52: DataConversionWarning: A column-vector y was passed when a 1d array was expected. Please change the shape of y to (n_samples,), for example using ravel().\n"
     ]
    },
    {
     "name": "stdout",
     "output_type": "stream",
     "text": [
      "evaluating model 5/35\n"
     ]
    },
    {
     "name": "stderr",
     "output_type": "stream",
     "text": [
      "/usr/local/lib/python3.6/dist-packages/ipykernel_launcher.py:52: DataConversionWarning: A column-vector y was passed when a 1d array was expected. Please change the shape of y to (n_samples,), for example using ravel().\n"
     ]
    },
    {
     "name": "stdout",
     "output_type": "stream",
     "text": [
      "evaluating model 6/35\n"
     ]
    },
    {
     "name": "stderr",
     "output_type": "stream",
     "text": [
      "/usr/local/lib/python3.6/dist-packages/ipykernel_launcher.py:52: DataConversionWarning: A column-vector y was passed when a 1d array was expected. Please change the shape of y to (n_samples,), for example using ravel().\n"
     ]
    },
    {
     "name": "stdout",
     "output_type": "stream",
     "text": [
      "evaluating model 7/35\n"
     ]
    },
    {
     "name": "stderr",
     "output_type": "stream",
     "text": [
      "/usr/local/lib/python3.6/dist-packages/ipykernel_launcher.py:52: DataConversionWarning: A column-vector y was passed when a 1d array was expected. Please change the shape of y to (n_samples,), for example using ravel().\n"
     ]
    },
    {
     "name": "stdout",
     "output_type": "stream",
     "text": [
      "evaluating model 6/35\n"
     ]
    },
    {
     "name": "stderr",
     "output_type": "stream",
     "text": [
      "/usr/local/lib/python3.6/dist-packages/ipykernel_launcher.py:52: DataConversionWarning: A column-vector y was passed when a 1d array was expected. Please change the shape of y to (n_samples,), for example using ravel().\n"
     ]
    },
    {
     "name": "stdout",
     "output_type": "stream",
     "text": [
      "evaluating model 7/35\n"
     ]
    },
    {
     "name": "stderr",
     "output_type": "stream",
     "text": [
      "/usr/local/lib/python3.6/dist-packages/ipykernel_launcher.py:52: DataConversionWarning: A column-vector y was passed when a 1d array was expected. Please change the shape of y to (n_samples,), for example using ravel().\n"
     ]
    },
    {
     "name": "stdout",
     "output_type": "stream",
     "text": [
      "evaluating model 8/35\n"
     ]
    },
    {
     "name": "stderr",
     "output_type": "stream",
     "text": [
      "/usr/local/lib/python3.6/dist-packages/ipykernel_launcher.py:52: DataConversionWarning: A column-vector y was passed when a 1d array was expected. Please change the shape of y to (n_samples,), for example using ravel().\n"
     ]
    },
    {
     "name": "stdout",
     "output_type": "stream",
     "text": [
      "evaluating model 9/35\n"
     ]
    },
    {
     "name": "stderr",
     "output_type": "stream",
     "text": [
      "/usr/local/lib/python3.6/dist-packages/ipykernel_launcher.py:52: DataConversionWarning: A column-vector y was passed when a 1d array was expected. Please change the shape of y to (n_samples,), for example using ravel().\n"
     ]
    },
    {
     "name": "stdout",
     "output_type": "stream",
     "text": [
      "evaluating model 10/35\n"
     ]
    },
    {
     "name": "stderr",
     "output_type": "stream",
     "text": [
      "/usr/local/lib/python3.6/dist-packages/ipykernel_launcher.py:52: DataConversionWarning: A column-vector y was passed when a 1d array was expected. Please change the shape of y to (n_samples,), for example using ravel().\n"
     ]
    },
    {
     "name": "stdout",
     "output_type": "stream",
     "text": [
      "evaluating model 11/35\n"
     ]
    },
    {
     "name": "stderr",
     "output_type": "stream",
     "text": [
      "/usr/local/lib/python3.6/dist-packages/ipykernel_launcher.py:52: DataConversionWarning: A column-vector y was passed when a 1d array was expected. Please change the shape of y to (n_samples,), for example using ravel().\n"
     ]
    },
    {
     "name": "stdout",
     "output_type": "stream",
     "text": [
      "evaluating model 12/35\n"
     ]
    },
    {
     "name": "stderr",
     "output_type": "stream",
     "text": [
      "/usr/local/lib/python3.6/dist-packages/ipykernel_launcher.py:52: DataConversionWarning: A column-vector y was passed when a 1d array was expected. Please change the shape of y to (n_samples,), for example using ravel().\n"
     ]
    },
    {
     "name": "stdout",
     "output_type": "stream",
     "text": [
      "evaluating model 11/35\n"
     ]
    },
    {
     "name": "stderr",
     "output_type": "stream",
     "text": [
      "/usr/local/lib/python3.6/dist-packages/ipykernel_launcher.py:52: DataConversionWarning: A column-vector y was passed when a 1d array was expected. Please change the shape of y to (n_samples,), for example using ravel().\n"
     ]
    },
    {
     "name": "stdout",
     "output_type": "stream",
     "text": [
      "evaluating model 12/35\n"
     ]
    },
    {
     "name": "stderr",
     "output_type": "stream",
     "text": [
      "/usr/local/lib/python3.6/dist-packages/ipykernel_launcher.py:52: DataConversionWarning: A column-vector y was passed when a 1d array was expected. Please change the shape of y to (n_samples,), for example using ravel().\n"
     ]
    },
    {
     "name": "stdout",
     "output_type": "stream",
     "text": [
      "evaluating model 13/35\n"
     ]
    },
    {
     "name": "stderr",
     "output_type": "stream",
     "text": [
      "/usr/local/lib/python3.6/dist-packages/ipykernel_launcher.py:52: DataConversionWarning: A column-vector y was passed when a 1d array was expected. Please change the shape of y to (n_samples,), for example using ravel().\n"
     ]
    },
    {
     "name": "stdout",
     "output_type": "stream",
     "text": [
      "evaluating model 14/35\n"
     ]
    },
    {
     "name": "stderr",
     "output_type": "stream",
     "text": [
      "/usr/local/lib/python3.6/dist-packages/ipykernel_launcher.py:52: DataConversionWarning: A column-vector y was passed when a 1d array was expected. Please change the shape of y to (n_samples,), for example using ravel().\n"
     ]
    },
    {
     "name": "stdout",
     "output_type": "stream",
     "text": [
      "evaluating model 15/35\n"
     ]
    },
    {
     "name": "stderr",
     "output_type": "stream",
     "text": [
      "/usr/local/lib/python3.6/dist-packages/ipykernel_launcher.py:52: DataConversionWarning: A column-vector y was passed when a 1d array was expected. Please change the shape of y to (n_samples,), for example using ravel().\n"
     ]
    },
    {
     "name": "stdout",
     "output_type": "stream",
     "text": [
      "evaluating model 16/35\n"
     ]
    },
    {
     "name": "stderr",
     "output_type": "stream",
     "text": [
      "/usr/local/lib/python3.6/dist-packages/ipykernel_launcher.py:52: DataConversionWarning: A column-vector y was passed when a 1d array was expected. Please change the shape of y to (n_samples,), for example using ravel().\n"
     ]
    },
    {
     "name": "stdout",
     "output_type": "stream",
     "text": [
      "evaluating model 17/35\n"
     ]
    },
    {
     "name": "stderr",
     "output_type": "stream",
     "text": [
      "/usr/local/lib/python3.6/dist-packages/ipykernel_launcher.py:52: DataConversionWarning: A column-vector y was passed when a 1d array was expected. Please change the shape of y to (n_samples,), for example using ravel().\n"
     ]
    },
    {
     "name": "stdout",
     "output_type": "stream",
     "text": [
      "evaluating model 16/35\n"
     ]
    },
    {
     "name": "stderr",
     "output_type": "stream",
     "text": [
      "/usr/local/lib/python3.6/dist-packages/ipykernel_launcher.py:52: DataConversionWarning: A column-vector y was passed when a 1d array was expected. Please change the shape of y to (n_samples,), for example using ravel().\n"
     ]
    },
    {
     "name": "stdout",
     "output_type": "stream",
     "text": [
      "evaluating model 17/35\n"
     ]
    },
    {
     "name": "stderr",
     "output_type": "stream",
     "text": [
      "/usr/local/lib/python3.6/dist-packages/ipykernel_launcher.py:52: DataConversionWarning: A column-vector y was passed when a 1d array was expected. Please change the shape of y to (n_samples,), for example using ravel().\n"
     ]
    },
    {
     "name": "stdout",
     "output_type": "stream",
     "text": [
      "evaluating model 18/35\n"
     ]
    },
    {
     "name": "stderr",
     "output_type": "stream",
     "text": [
      "/usr/local/lib/python3.6/dist-packages/ipykernel_launcher.py:52: DataConversionWarning: A column-vector y was passed when a 1d array was expected. Please change the shape of y to (n_samples,), for example using ravel().\n"
     ]
    },
    {
     "name": "stdout",
     "output_type": "stream",
     "text": [
      "evaluating model 19/35\n"
     ]
    },
    {
     "name": "stderr",
     "output_type": "stream",
     "text": [
      "/usr/local/lib/python3.6/dist-packages/ipykernel_launcher.py:52: DataConversionWarning: A column-vector y was passed when a 1d array was expected. Please change the shape of y to (n_samples,), for example using ravel().\n"
     ]
    },
    {
     "name": "stdout",
     "output_type": "stream",
     "text": [
      "evaluating model 20/35\n"
     ]
    },
    {
     "name": "stderr",
     "output_type": "stream",
     "text": [
      "/usr/local/lib/python3.6/dist-packages/ipykernel_launcher.py:52: DataConversionWarning: A column-vector y was passed when a 1d array was expected. Please change the shape of y to (n_samples,), for example using ravel().\n"
     ]
    },
    {
     "name": "stdout",
     "output_type": "stream",
     "text": [
      "evaluating model 21/35\n"
     ]
    },
    {
     "name": "stderr",
     "output_type": "stream",
     "text": [
      "/usr/local/lib/python3.6/dist-packages/ipykernel_launcher.py:52: DataConversionWarning: A column-vector y was passed when a 1d array was expected. Please change the shape of y to (n_samples,), for example using ravel().\n"
     ]
    },
    {
     "name": "stdout",
     "output_type": "stream",
     "text": [
      "evaluating model 22/35\n"
     ]
    },
    {
     "name": "stderr",
     "output_type": "stream",
     "text": [
      "/usr/local/lib/python3.6/dist-packages/ipykernel_launcher.py:52: DataConversionWarning: A column-vector y was passed when a 1d array was expected. Please change the shape of y to (n_samples,), for example using ravel().\n"
     ]
    },
    {
     "name": "stdout",
     "output_type": "stream",
     "text": [
      "evaluating model 21/35\n"
     ]
    },
    {
     "name": "stderr",
     "output_type": "stream",
     "text": [
      "/usr/local/lib/python3.6/dist-packages/ipykernel_launcher.py:52: DataConversionWarning: A column-vector y was passed when a 1d array was expected. Please change the shape of y to (n_samples,), for example using ravel().\n"
     ]
    },
    {
     "name": "stdout",
     "output_type": "stream",
     "text": [
      "evaluating model 22/35\n"
     ]
    },
    {
     "name": "stderr",
     "output_type": "stream",
     "text": [
      "/usr/local/lib/python3.6/dist-packages/ipykernel_launcher.py:52: DataConversionWarning: A column-vector y was passed when a 1d array was expected. Please change the shape of y to (n_samples,), for example using ravel().\n"
     ]
    },
    {
     "name": "stdout",
     "output_type": "stream",
     "text": [
      "evaluating model 23/35\n"
     ]
    },
    {
     "name": "stderr",
     "output_type": "stream",
     "text": [
      "/usr/local/lib/python3.6/dist-packages/ipykernel_launcher.py:52: DataConversionWarning: A column-vector y was passed when a 1d array was expected. Please change the shape of y to (n_samples,), for example using ravel().\n"
     ]
    },
    {
     "name": "stdout",
     "output_type": "stream",
     "text": [
      "evaluating model 24/35\n"
     ]
    },
    {
     "name": "stderr",
     "output_type": "stream",
     "text": [
      "/usr/local/lib/python3.6/dist-packages/ipykernel_launcher.py:52: DataConversionWarning: A column-vector y was passed when a 1d array was expected. Please change the shape of y to (n_samples,), for example using ravel().\n"
     ]
    },
    {
     "name": "stdout",
     "output_type": "stream",
     "text": [
      "evaluating model 25/35\n"
     ]
    },
    {
     "name": "stderr",
     "output_type": "stream",
     "text": [
      "/usr/local/lib/python3.6/dist-packages/ipykernel_launcher.py:52: DataConversionWarning: A column-vector y was passed when a 1d array was expected. Please change the shape of y to (n_samples,), for example using ravel().\n"
     ]
    },
    {
     "name": "stdout",
     "output_type": "stream",
     "text": [
      "evaluating model 26/35\n"
     ]
    },
    {
     "name": "stderr",
     "output_type": "stream",
     "text": [
      "/usr/local/lib/python3.6/dist-packages/ipykernel_launcher.py:52: DataConversionWarning: A column-vector y was passed when a 1d array was expected. Please change the shape of y to (n_samples,), for example using ravel().\n"
     ]
    },
    {
     "name": "stdout",
     "output_type": "stream",
     "text": [
      "evaluating model 27/35\n"
     ]
    },
    {
     "name": "stderr",
     "output_type": "stream",
     "text": [
      "/usr/local/lib/python3.6/dist-packages/ipykernel_launcher.py:52: DataConversionWarning: A column-vector y was passed when a 1d array was expected. Please change the shape of y to (n_samples,), for example using ravel().\n"
     ]
    },
    {
     "data": {
      "image/png": "[encoded data removed]",
      "text/plain": [
       "<Figure size 1080x720 with 2 Axes>"
      ]
     },
     "metadata": {
      "tags": []
     },
     "output_type": "display_data"
    }
   ],
   "source": [
    "split = StratifiedShuffleSplit(n_splits=1, test_size=0.2, random_state=42)\n",
    "\n",
    "for train_index, test_index in split.split(data, data[\"correct_answ\"]):\n",
    "    strat_train_set = data.loc[train_index]\n",
    "    strat_test_set = data.loc[test_index]\n",
    "    \n",
    "training = strat_train_set.copy()\n",
    "testing = strat_test_set.copy()\n",
    "\n",
    "#X_training=training[['bleu_score','levenstein_sim','jaccard_sim']]\n",
    "y_training=training[['correct_answ']]\n",
    "#X_testing=testing[['bleu_score','levenstein_sim','jaccard_sim']]\n",
    "y_testing=testing[['correct_answ']]\n",
    "\n",
    "fig = plt.figure(figsize = (15,10))\n",
    "ax1 = fig.add_subplot(121)\n",
    "ax2 = fig.add_subplot(122)\n",
    "\n",
    "for i,size in enumerate(model_list):\n",
    "    accuracy_scores = list()\n",
    "    for j,model in enumerate(size):\n",
    "        print('evaluating model {}/{}'.format(i*len(size)+j+1,len(size)*len(model_list)))\n",
    "        cosine_sim_training = np.array([combined_cosine_similarity(row['concept'], row['range'], model) for index, row in training.iterrows()])\n",
    "        cosine_sim_testing = np.array([combined_cosine_similarity(row['concept'], row['range'], model) for index, row in testing.iterrows()])\n",
    "        X_training = pd.DataFrame(cosine_sim_training,columns = ['cosine_sim'])\n",
    "        X_testing = pd.DataFrame(cosine_sim_testing,columns = ['cosine_sim'])\n",
    "        \n",
    "        rf = RandomForestClassifier(n_estimators=20,min_samples_split=5,min_samples_leaf=2,max_features='log2',max_depth=None,bootstrap=False)\n",
    "        rf.fit(X_training, y_training)\n",
    "        rf_prediction=rf.predict(X_testing)\n",
    "        \n",
    "#         print('accuracy:',accuracy_score(y_testing,rf_prediction))\n",
    "#         print('f1:',f1_score(y_testing,rf_prediction))\n",
    "#         print('precision:',precision_score(y_testing,rf_prediction))\n",
    "#         print('recall:',recall_score(y_testing,rf_prediction))\n",
    "        accuracy_scores.append(f1_score(y_testing,rf_prediction))\n",
    "    ax1.plot(window_list, accuracy_scores,'-', label=[size_list[i]])\n",
    "\n",
    "for j in range(len(model_list[0])):\n",
    "    accuracy_scores = list()\n",
    "    for i in range(len(model_list)):\n",
    "        print('evaluating model {}/{}'.format(j*len(model_list[0])+i+1,len(size)*len(model_list)))\n",
    "        cosine_sim_training = np.array([combined_cosine_similarity(row['concept'], row['range'], model_list[i][j]) for index, row in training.iterrows()])\n",
    "        cosine_sim_testing = np.array([combined_cosine_similarity(row['concept'], row['range'], model_list[i][j]) for index, row in testing.iterrows()])\n",
    "        X_training = pd.DataFrame(cosine_sim_training,columns = ['cosine_sim'])\n",
    "        X_testing = pd.DataFrame(cosine_sim_testing,columns = ['cosine_sim'])\n",
    "        \n",
    "        rf = RandomForestClassifier(n_estimators=20,min_samples_split=5,min_samples_leaf=2,max_features='log2',max_depth=None,bootstrap=False)\n",
    "        rf.fit(X_training, y_training)\n",
    "        rf_prediction=rf.predict(X_testing)\n",
    "        accuracy_scores.append(f1_score(y_testing,rf_prediction))\n",
    "    ax2.plot(size_list, accuracy_scores,'-', label=[window_list[j]])\n",
    "\n",
    "ax1.grid(True)\n",
    "ax2.grid(True)\n",
    "ax1.legend()\n",
    "ax2.legend()\n",
    "plt.show()"
   ]
  },
  {
   "cell_type": "code",
   "execution_count": 5,
   "metadata": {
    "colab": {},
    "colab_type": "code",
    "id": "mJnoWWZiR5i8"
   },
   "outputs": [],
   "source": [
    "embedding = ELMoEmbeddings('pubmed')\n",
    "from scipy.spatial import distance\n",
    "from flair.data import Sentence\n",
    "\n",
    "def combined_euclidean_dist_flair(concept, in_txt):\n",
    "    concept_words = Sentence('the disease and illness ' + concept)\n",
    "    embedding.embed(concept_words)\n",
    "    range_words = Sentence(in_txt)\n",
    "    embedding.embed(range_words)\n",
    "    cosine_sim = 0\n",
    "    count = 0\n",
    "    \n",
    "    for wrd in concept_words:\n",
    "        for wrd2 in range_words:\n",
    "            cosine_sim += distance.euclidean(wrd.embedding.cpu(), wrd2.embedding.cpu())\n",
    "            count += 1\n",
    "        \n",
    "    return cosine_sim / count\n",
    "\n",
    "\n",
    "def combined_cosine_similarity_flair(concept, in_txt):\n",
    "    \n",
    "    if in_txt.lower() in abbreviations_dic:\n",
    "            in_txt = abbreviations_dic[in_txt.lower()]\n",
    "            \n",
    "    concept = concept.split(' ')\n",
    "    in_txt = in_txt.split(' ')\n",
    "    concept = [stripword(i.lower()) for i in concept]\n",
    "    in_txt = [stripword(i.lower()) for i in in_txt]\n",
    "\n",
    "    \n",
    "    concept = '_'.join(concept)\n",
    "    range_words = '_'.join(in_txt)\n",
    "    concept_words = Sentence('the disease and illness ' + concept)\n",
    "    embedding.embed(concept_words)\n",
    "    range_words = Sentence(range_words)\n",
    "    embedding.embed(range_words)\n",
    "    \n",
    "    cosine_sim = (1-spatial.distance.cosine(concept_words[-1].embedding.cpu(), range_words[0].embedding.cpu()))\n",
    "\n",
    "    return cosine_sim"
   ]
  },
  {
   "cell_type": "code",
   "execution_count": 28,
   "metadata": {
    "colab": {
     "base_uri": "https://localhost:8080/",
     "height": 154
    },
    "colab_type": "code",
    "id": "RUHvPKkUNRzS",
    "outputId": "58a5f025-d217-4432-c721-60bb43bcde13"
   },
   "outputs": [
    {
     "name": "stdout",
     "output_type": "stream",
     "text": [
      "accuracy: 0.8186274509803921\n",
      "f1: 0.8847352024922117\n",
      "precision: 0.8930817610062893\n",
      "recall: 0.8765432098765432\n",
      "[[ 25  17]\n",
      " [ 20 142]]\n"
     ]
    },
    {
     "name": "stderr",
     "output_type": "stream",
     "text": [
      "/usr/local/lib/python3.6/dist-packages/ipykernel_launcher.py:23: DataConversionWarning: A column-vector y was passed when a 1d array was expected. Please change the shape of y to (n_samples,), for example using ravel().\n"
     ]
    }
   ],
   "source": [
    "split = StratifiedShuffleSplit(n_splits=1, test_size=0.2, random_state=42)\n",
    "\n",
    "for train_index, test_index in split.split(data, data[\"correct_answ\"]):\n",
    "    strat_train_set = data.loc[train_index]\n",
    "    strat_test_set = data.loc[test_index]\n",
    "    \n",
    "training = strat_train_set.copy()\n",
    "testing = strat_test_set.copy()\n",
    "\n",
    "eu_training = np.array([combined_euclidean_dist_flair(row['concept'], row['range']) for index, row in training.iterrows()])\n",
    "eu_testing = np.array([combined_euclidean_dist_flair(row['concept'], row['range']) for index, row in testing.iterrows()])\n",
    "\n",
    "X_training = pd.DataFrame(eu_training,columns = ['Euclidean_dist'])\n",
    "X_testing = pd.DataFrame(eu_testing,columns = ['Euclidean_dist'])\n",
    "\n",
    "y_training=training[['correct_answ']]\n",
    "y_testing=testing[['correct_answ']]\n",
    "\n",
    "rf = RandomForestClassifier(n_estimators=20,min_samples_split=5,min_samples_leaf=2,max_features='log2',max_depth=None,bootstrap=False)\n",
    "rf.fit(X_training, y_training)\n",
    "rf_prediction=rf.predict(X_testing)\n",
    "        \n",
    "#         print('accuracy:',accuracy_score(y_testing,rf_prediction))\n",
    "#         print('f1:',f1_score(y_testing,rf_prediction))\n",
    "#         print('precision:',precision_score(y_testing,rf_prediction))\n",
    "#         print('recall:',recall_score(y_testing,rf_prediction))\n",
    "\n",
    "print('accuracy:',accuracy_score(y_testing,rf_prediction))\n",
    "print('f1:',f1_score(y_testing,rf_prediction))\n",
    "print('precision:',precision_score(y_testing,rf_prediction))\n",
    "print('recall:',recall_score(y_testing,rf_prediction))\n",
    "print(confusion_matrix(y_testing,rf_prediction))\n"
   ]
  },
  {
   "cell_type": "code",
   "execution_count": 43,
   "metadata": {
    "colab": {
     "base_uri": "https://localhost:8080/",
     "height": 154
    },
    "colab_type": "code",
    "id": "DdKN4QLIVvQO",
    "outputId": "abf6a92e-3671-489b-bc9e-a65f039a05e8"
   },
   "outputs": [
    {
     "name": "stdout",
     "output_type": "stream",
     "text": [
      "accuracy: 0.8333333333333334\n",
      "f1: 0.8924050632911392\n",
      "precision: 0.9155844155844156\n",
      "recall: 0.8703703703703703\n",
      "[[ 29  13]\n",
      " [ 21 141]]\n"
     ]
    },
    {
     "name": "stderr",
     "output_type": "stream",
     "text": [
      "/usr/local/lib/python3.6/dist-packages/ipykernel_launcher.py:20: DataConversionWarning: A column-vector y was passed when a 1d array was expected. Please change the shape of y to (n_samples,), for example using ravel().\n"
     ]
    }
   ],
   "source": [
    "split = StratifiedShuffleSplit(n_splits=1, test_size=0.2, random_state=42)\n",
    "\n",
    "for train_index, test_index in split.split(data, data[\"correct_answ\"]):\n",
    "    strat_train_set = data.loc[train_index]\n",
    "    strat_test_set = data.loc[test_index]\n",
    "    \n",
    "training = strat_train_set.copy()\n",
    "testing = strat_test_set.copy()\n",
    "\n",
    "eu_training = np.array([combined_cosine_similarity_flair(row['concept'], row['range']) for index, row in training.iterrows()])\n",
    "eu_testing = np.array([combined_cosine_similarity_flair(row['concept'], row['range']) for index, row in testing.iterrows()])\n",
    "\n",
    "X_training = pd.DataFrame(eu_training,columns = ['Euclidean_dist'])\n",
    "X_testing = pd.DataFrame(eu_testing,columns = ['Euclidean_dist'])\n",
    "\n",
    "y_training=training[['correct_answ']]\n",
    "y_testing=testing[['correct_answ']]\n",
    "\n",
    "rf = RandomForestClassifier(n_estimators=20,min_samples_split=5,min_samples_leaf=2,max_features='log2',max_depth=None,bootstrap=False)\n",
    "rf.fit(X_training, y_training)\n",
    "rf_prediction=rf.predict(X_testing)\n",
    "        \n",
    "#         print('accuracy:',accuracy_score(y_testing,rf_prediction))\n",
    "#         print('f1:',f1_score(y_testing,rf_prediction))\n",
    "#         print('precision:',precision_score(y_testing,rf_prediction))\n",
    "#         print('recall:',recall_score(y_testing,rf_prediction))\n",
    "\n",
    "print('accuracy:',accuracy_score(y_testing,rf_prediction))\n",
    "print('f1:',f1_score(y_testing,rf_prediction))\n",
    "print('precision:',precision_score(y_testing,rf_prediction))\n",
    "print('recall:',recall_score(y_testing,rf_prediction))\n",
    "print(confusion_matrix(y_testing,rf_prediction))\n"
   ]
  },
  {
   "cell_type": "code",
   "execution_count": 23,
   "metadata": {
    "colab": {
     "base_uri": "https://localhost:8080/",
     "height": 390
    },
    "colab_type": "code",
    "id": "-aEO3jwnWZbL",
    "outputId": "c7583f01-9906-43b1-d035-7df3784fb856"
   },
   "outputs": [
    {
     "name": "stderr",
     "output_type": "stream",
     "text": [
      "c:\\users\\schaa\\appdata\\local\\programs\\python\\python37\\lib\\site-packages\\ipykernel_launcher.py:33: DataConversionWarning: A column-vector y was passed when a 1d array was expected. Please change the shape of y to (n_samples,), for example using ravel().\n",
      "c:\\users\\schaa\\appdata\\local\\programs\\python\\python37\\lib\\site-packages\\ipykernel_launcher.py:37: DataConversionWarning: A column-vector y was passed when a 1d array was expected. Please change the shape of y to (n_samples,), for example using ravel().\n"
     ]
    },
    {
     "name": "stdout",
     "output_type": "stream",
     "text": [
      "accuracy: 0.9362745098039216\n",
      "f1: 0.9597523219814242\n",
      "precision: 0.9627329192546584\n",
      "recall: 0.9567901234567902\n",
      "[[ 36   6]\n",
      " [  7 155]]\n",
      "accuracy: 0.946078431372549\n",
      "f1: 0.9655172413793103\n",
      "precision: 0.9808917197452229\n",
      "recall: 0.9506172839506173\n",
      "[[ 39   3]\n",
      " [  8 154]]\n"
     ]
    }
   ],
   "source": [
    "from sklearn.metrics import precision_score, recall_score,accuracy_score\n",
    "from sklearn.metrics import confusion_matrix\n",
    "\n",
    "split = StratifiedShuffleSplit(n_splits=1, test_size=0.2, random_state=42)\n",
    "\n",
    "for train_index, test_index in split.split(data, data[\"correct_answ\"]):\n",
    "    strat_train_set = data.loc[train_index]\n",
    "    strat_test_set = data.loc[test_index]\n",
    "    \n",
    "training = strat_train_set.copy()\n",
    "testing = strat_test_set.copy()\n",
    "\n",
    "X_testing = testing[['jaccard_sim','new_cosine_sim','Elmo_cosine']]\n",
    "X_training = training[['jaccard_sim','new_cosine_sim','Elmo_cosine']]\n",
    "\n",
    "X_testing2 = testing[['jaccard_sim','cosine_sim','Elmo_cosine']]\n",
    "X_training2 = training[['jaccard_sim','cosine_sim','Elmo_cosine']]\n",
    "# cosine_sim_training = np.array([combined_cosine_similarity(row['concept'], row['range'], bestmodel) for index, row in training.iterrows()])\n",
    "# cosine_sim_testing = np.array([combined_cosine_similarity(row['concept'], row['range'], bestmodel) for index, row in testing.iterrows()])\n",
    "\n",
    "# eu_training = np.array([combined_cosine_similarity_flair(row['concept'], row['range']) for index, row in training.iterrows()])\n",
    "# eu_testing = np.array([combined_cosine_similarity_flair(row['concept'], row['range']) for index, row in testing.iterrows()])\n",
    "\n",
    "# X_training['Euclidean_dist'] = eu_training\n",
    "# X_testing['Euclidean_dist'] = eu_testing\n",
    "# X_training['cosine_sim'] = cosine_sim_training\n",
    "# X_testing['cosine_sim'] = cosine_sim_testing\n",
    "\n",
    "y_training=training[['correct_answ']]\n",
    "y_testing=testing[['correct_answ']]\n",
    "\n",
    "rf = RandomForestClassifier(n_estimators=20,min_samples_split=5,min_samples_leaf=2,max_features='log2',max_depth=None,bootstrap=False)\n",
    "rf.fit(X_training, y_training)\n",
    "rf_prediction=rf.predict(X_testing)\n",
    "\n",
    "rf2 = RandomForestClassifier(n_estimators=20,min_samples_split=5,min_samples_leaf=2,max_features='log2',max_depth=None,bootstrap=False)\n",
    "rf2.fit(X_training2, y_training)\n",
    "rf_prediction2=rf2.predict(X_testing2)\n",
    "        \n",
    "#         print('accuracy:',accuracy_score(y_testing,rf_prediction))\n",
    "#         print('f1:',f1_score(y_testing,rf_prediction))\n",
    "#         print('precision:',precision_score(y_testing,rf_prediction))\n",
    "#         print('recall:',recall_score(y_testing,rf_prediction))\n",
    "\n",
    "print('accuracy:',accuracy_score(y_testing,rf_prediction))\n",
    "print('f1:',f1_score(y_testing,rf_prediction))\n",
    "print('precision:',precision_score(y_testing,rf_prediction))\n",
    "print('recall:',recall_score(y_testing,rf_prediction))\n",
    "print(confusion_matrix(y_testing,rf_prediction))\n",
    "\n",
    "print('accuracy:',accuracy_score(y_testing,rf_prediction2))\n",
    "print('f1:',f1_score(y_testing,rf_prediction2))\n",
    "print('precision:',precision_score(y_testing,rf_prediction2))\n",
    "print('recall:',recall_score(y_testing,rf_prediction2))\n",
    "print(confusion_matrix(y_testing,rf_prediction2))"
   ]
  },
  {
   "cell_type": "code",
   "execution_count": 17,
   "metadata": {
    "colab": {
     "base_uri": "https://localhost:8080/",
     "height": 262
    },
    "colab_type": "code",
    "id": "UOwjXk0TY5tg",
    "outputId": "8671cab4-0ffe-445b-c2d0-39681506cd08"
   },
   "outputs": [
    {
     "name": "stderr",
     "output_type": "stream",
     "text": [
      "c:\\users\\schaa\\appdata\\local\\programs\\python\\python37\\lib\\site-packages\\ipykernel_launcher.py:3: DataConversionWarning: A column-vector y was passed when a 1d array was expected. Please change the shape of y to (n_samples, ), for example using ravel().\n",
      "  This is separate from the ipykernel package so we can avoid doing imports until\n"
     ]
    },
    {
     "name": "stdout",
     "output_type": "stream",
     "text": [
      "accuracy: 0.946078431372549\n",
      "f1: 0.9655172413793103\n",
      "precision: 0.9808917197452229\n",
      "recall: 0.9506172839506173\n",
      "[[ 39   3]\n",
      " [  8 154]]\n"
     ]
    }
   ],
   "source": [
    "from sklearn.neighbors import KNeighborsClassifier\n",
    "knn = KNeighborsClassifier(n_neighbors = 1)\n",
    "knn.fit(X_training, y_training)\n",
    "y_pred = knn.predict(X_testing)\n",
    "\n",
    "print('accuracy:',accuracy_score(y_testing,y_pred))\n",
    "print('f1:',f1_score(y_testing,y_pred))\n",
    "print('precision:',precision_score(y_testing,y_pred))\n",
    "print('recall:',recall_score(y_testing,y_pred))\n",
    "print(confusion_matrix(y_testing,y_pred))"
   ]
  },
  {
   "cell_type": "code",
   "execution_count": 20,
   "metadata": {},
   "outputs": [],
   "source": [
    "#X_training[['correct_answ', 'concept', 'range', 'negation', 'hof', 'location', 'negation_answ', 'hof_answ', 'location_answ']]=training[['correct_answ', 'concept', 'range', 'negation', 'hof', 'location', 'negation_answ', 'hof_answ', 'location_answ']]\n",
    "#X_testing[['correct_answ', 'concept', 'range', 'negation', 'hof', 'location', 'negation_answ', 'hof_answ', 'location_answ']]=testing[['correct_answ', 'concept', 'range', 'negation', 'hof', 'location', 'negation_answ', 'hof_answ', 'location_answ']]\n",
    "X_training['old_cosine'] = training['cosine_sim']\n",
    "X_testing['old_cosine'] = testing['cosine_sim']\n",
    "\n",
    "\n",
    "X_training.to_csv('new_data.csv')\n",
    "X_testing.to_csv('new_data2.csv')"
   ]
  },
  {
   "cell_type": "code",
   "execution_count": 4,
   "metadata": {},
   "outputs": [],
   "source": [
    "bestmodel = Word2Vec.load(\"bestmodel\")"
   ]
  },
  {
   "cell_type": "code",
   "execution_count": 11,
   "metadata": {},
   "outputs": [],
   "source": [
    "cosine_data = np.array([combined_cosine_similarity(row['concept'], row['range'], bestmodel) for index, row in data.iterrows()])\n",
    "eu_training = np.array([combined_cosine_similarity_flair(row['concept'], row['range']) for index, row in data.iterrows()])\n",
    "data['Elmo_cosine'] = eu_training\n",
    "data['new_cosine_sim'] = cosine_data\n",
    "data.to_csv('new_data_pls.csv')"
   ]
  },
  {
   "cell_type": "code",
   "execution_count": 18,
   "metadata": {},
   "outputs": [
    {
     "data": {
      "text/plain": [
       "array([-1.0317345 ,  0.34903482,  0.95711654,  0.9361196 , -0.44819334,\n",
       "       -3.5005145 ,  0.08304068, -2.3428717 ,  3.4212172 , -1.3062724 ,\n",
       "       -0.17284699,  0.8749464 , -0.53044546,  0.38705376,  1.1290488 ,\n",
       "       -1.0169128 , -0.53818095, -0.3068339 ,  2.9012666 , -5.0926294 ,\n",
       "       -0.00916799,  2.350028  ,  1.456584  ,  1.7395251 , -0.00804907,\n",
       "        0.23455055, -0.47495857, -0.5054445 ,  0.6174211 , -1.2734239 ,\n",
       "        3.5431926 , -1.8023051 ,  0.11012769,  1.4787332 , -0.21960141,\n",
       "        1.7422258 ,  1.2240801 ,  0.66821074,  0.5806889 , -0.6359968 ,\n",
       "        1.1687407 , -3.8034334 , -0.45150563,  0.3415547 ,  0.2875458 ,\n",
       "        1.4875524 , -0.25495622,  1.0220536 ,  1.7401346 ,  1.005248  ,\n",
       "        1.614711  ,  1.6848174 , -1.3314216 ,  0.16102368, -5.9333577 ,\n",
       "        1.2260764 , -0.6112013 , -1.650864  , -2.580809  , -3.8678281 ,\n",
       "        0.23984781, -1.0268306 ,  0.2605498 ,  4.854187  , -1.2686521 ,\n",
       "       -3.6934602 , -1.6839317 , -1.9747524 ,  0.4766245 , -3.0756915 ,\n",
       "        1.5120301 ,  0.22357439, -1.0788764 , -3.2347226 , -3.1504428 ,\n",
       "        0.3139903 , -3.912542  , -0.88254035, -3.925087  , -3.7559009 ,\n",
       "       -1.9543939 ,  0.42128068,  0.6487309 , -0.5927009 ,  2.6418662 ,\n",
       "        2.4952211 ,  0.4030329 , -1.4461441 , -0.28234637, -1.922544  ,\n",
       "       -1.2486088 , -3.7275674 , -0.6725005 ,  0.28956294,  0.2025417 ,\n",
       "       -0.17931563,  0.33969912, -2.1452866 ,  1.0007828 , -2.8484316 ,\n",
       "        1.962892  ,  0.8095119 ,  1.2389225 ,  1.7554755 ,  0.22467688,\n",
       "        2.390262  , -1.4607515 , -0.64242196,  1.1197673 ,  1.7121177 ,\n",
       "        1.1595272 , -2.3295739 , -1.0098252 , -2.9369776 , -2.4659448 ,\n",
       "       -1.704222  ,  3.7748778 , -4.710681  ,  1.1486963 , -0.12605624,\n",
       "       -5.3545113 , -2.4129162 , -1.2772399 , -0.88978297,  1.0291195 ,\n",
       "        0.38560414, -2.0114353 , -2.9372272 , -3.6938124 , -1.0677667 ],\n",
       "      dtype=float32)"
      ]
     },
     "execution_count": 18,
     "metadata": {},
     "output_type": "execute_result"
    }
   ],
   "source": [
    "bestmodel.wv['hypertensive']"
   ]
  },
  {
   "cell_type": "code",
   "execution_count": null,
   "metadata": {},
   "outputs": [],
   "source": []
  }
 ],
 "metadata": {
  "accelerator": "GPU",
  "colab": {
   "name": "word2vec analytics",
   "provenance": [],
   "toc_visible": true
  },
  "kernelspec": {
   "display_name": "Python 3",
   "language": "python",
   "name": "python3"
  },
  "language_info": {
   "codemirror_mode": {
    "name": "ipython",
    "version": 3
   },
   "file_extension": ".py",
   "mimetype": "text/x-python",
   "name": "python",
   "nbconvert_exporter": "python",
   "pygments_lexer": "ipython3",
   "version": "3.7.4"
  }
 },
 "nbformat": 4,
 "nbformat_minor": 1
}
